{
 "cells": [
  {
   "cell_type": "code",
   "execution_count": null,
   "metadata": {},
   "outputs": [],
   "source": []
  },
  {
   "cell_type": "code",
   "execution_count": 1,
   "metadata": {},
   "outputs": [],
   "source": [
    "using SparseArrays"
   ]
  },
  {
   "cell_type": "code",
   "execution_count": 13,
   "metadata": {},
   "outputs": [
    {
     "data": {
      "text/plain": [
       "10×6×2 Array{Float64, 3}:\n",
       "[:, :, 1] =\n",
       " -7.31371e-12  0.0   7.31371e-12   8.88178e-28  -7.31371e-12  0.0\n",
       "  8.88178e-28  0.0  -8.88178e-28  -1.47911e-43   8.88178e-28  0.0\n",
       "  7.31371e-12  0.0  -7.31371e-12  -8.88178e-28   7.31371e-12  0.0\n",
       "  1.03431e-11  0.0  -1.03431e-11  -1.33227e-27   1.03431e-11  0.0\n",
       "  7.31371e-12  0.0  -7.31371e-12  -8.88178e-28   7.31371e-12  0.0\n",
       "  2.40352e-27  0.0  -2.40352e-27  -2.95823e-43   2.40352e-27  0.0\n",
       " -7.31371e-12  0.0   7.31371e-12   8.88178e-28  -7.31371e-12  0.0\n",
       " -1.03431e-11  0.0   1.03431e-11   1.33227e-27  -1.03431e-11  0.0\n",
       " -7.31371e-12  0.0   7.31371e-12   8.88178e-28  -7.31371e-12  0.0\n",
       "  8.88178e-28  0.0  -8.88178e-28  -1.47911e-43   8.88178e-28  0.0\n",
       "\n",
       "[:, :, 2] =\n",
       " -7.31371e-12  0.0   7.31371e-12   8.88178e-28  -7.31371e-12  0.0\n",
       "  8.88178e-28  0.0  -8.88178e-28  -1.47911e-43   8.88178e-28  0.0\n",
       "  7.31371e-12  0.0  -7.31371e-12  -8.88178e-28   7.31371e-12  0.0\n",
       "  1.03431e-11  0.0  -1.03431e-11  -1.33227e-27   1.03431e-11  0.0\n",
       "  7.31371e-12  0.0  -7.31371e-12  -8.88178e-28   7.31371e-12  0.0\n",
       "  2.40352e-27  0.0  -2.40352e-27  -2.95823e-43   2.40352e-27  0.0\n",
       " -7.31371e-12  0.0   7.31371e-12   8.88178e-28  -7.31371e-12  0.0\n",
       " -1.03431e-11  0.0   1.03431e-11   1.33227e-27  -1.03431e-11  0.0\n",
       " -7.31371e-12  0.0   7.31371e-12   8.88178e-28  -7.31371e-12  0.0\n",
       "  8.88178e-28  0.0  -8.88178e-28  -1.47911e-43   8.88178e-28  0.0"
      ]
     },
     "metadata": {},
     "output_type": "display_data"
    },
    {
     "data": {
      "text/plain": [
       "10×6×2 Array{Float64, 3}:\n",
       "[:, :, 1] =\n",
       "  0.707107     -0.0  -0.707107     -8.65956e-17   0.707107      1.73191e-16\n",
       " -0.0           0.0   0.0           0.0          -0.0          -0.0\n",
       " -0.707107      0.0   0.707107      8.65956e-17  -0.707107     -1.73191e-16\n",
       " -1.0           0.0   1.0           1.22465e-16  -1.0          -2.44929e-16\n",
       " -0.707107      0.0   0.707107      8.65956e-17  -0.707107     -1.73191e-16\n",
       " -1.22465e-16   0.0   1.22465e-16   1.49976e-32  -1.22465e-16  -2.99952e-32\n",
       "  0.707107     -0.0  -0.707107     -8.65956e-17   0.707107      1.73191e-16\n",
       "  1.0          -0.0  -1.0          -1.22465e-16   1.0           2.44929e-16\n",
       "  0.707107     -0.0  -0.707107     -8.65956e-17   0.707107      1.73191e-16\n",
       "  2.44929e-16  -0.0  -2.44929e-16  -2.99952e-32   2.44929e-16   5.99904e-32\n",
       "\n",
       "[:, :, 2] =\n",
       "  0.707107     -0.0  -0.707107     -8.65956e-17   0.707107      1.73191e-16\n",
       " -0.0           0.0   0.0           0.0          -0.0          -0.0\n",
       " -0.707107      0.0   0.707107      8.65956e-17  -0.707107     -1.73191e-16\n",
       " -1.0           0.0   1.0           1.22465e-16  -1.0          -2.44929e-16\n",
       " -0.707107      0.0   0.707107      8.65956e-17  -0.707107     -1.73191e-16\n",
       " -1.22465e-16   0.0   1.22465e-16   1.49976e-32  -1.22465e-16  -2.99952e-32\n",
       "  0.707107     -0.0  -0.707107     -8.65956e-17   0.707107      1.73191e-16\n",
       "  1.0          -0.0  -1.0          -1.22465e-16   1.0           2.44929e-16\n",
       "  0.707107     -0.0  -0.707107     -8.65956e-17   0.707107      1.73191e-16\n",
       "  2.44929e-16  -0.0  -2.44929e-16  -2.99952e-32   2.44929e-16   5.99904e-32"
      ]
     },
     "metadata": {},
     "output_type": "display_data"
    },
    {
     "ename": "LoadError",
     "evalue": "LoadError: HDF5.API.H5Error: Error creating file ../data/test22.jld\nlibhdf5 Stacktrace:\n [1] H5FD__sec2_open: File accessibility/Unable to open file\n     unable to open file: name = '../data/test22.jld', errno = 2, error message = 'No such file or directory', flags = 13, o_flags = 602\n  ⋮\nin expression starting at /Users/jsleadbetter/edinburgh/dissertation/julia-baroclinic/src/run_model.jl:105",
     "output_type": "error",
     "traceback": [
      "LoadError: HDF5.API.H5Error: Error creating file ../data/test22.jld\n",
      "libhdf5 Stacktrace:\n",
      " [1] H5FD__sec2_open: File accessibility/Unable to open file\n",
      "     unable to open file: name = '../data/test22.jld', errno = 2, error message = 'No such file or directory', flags = 13, o_flags = 602\n",
      "  ⋮\n",
      "in expression starting at /Users/jsleadbetter/edinburgh/dissertation/julia-baroclinic/src/run_model.jl:105\n",
      "\n",
      "Stacktrace:\n",
      "  [1] macro expansion\n",
      "    @ ~/.julia/packages/HDF5/Z859u/src/api/error.jl:18 [inlined]\n",
      "  [2] h5f_create(pathname::String, flags::UInt16, fcpl_id::HDF5.FileCreateProperties, fapl_id::HDF5.FileAccessProperties)\n",
      "    @ HDF5.API ~/.julia/packages/HDF5/Z859u/src/api/functions.jl:1088\n",
      "  [3] jldopen(filename::String, rd::Bool, wr::Bool, cr::Bool, tr::Bool, ff::Bool; mmaparrays::Bool, compatible::Bool, compress::Bool)\n",
      "    @ JLD ~/.julia/packages/JLD/Vxkax/src/JLD.jl:182\n",
      "  [4] jldopen\n",
      "    @ ~/.julia/packages/JLD/Vxkax/src/JLD.jl:162 [inlined]\n",
      "  [5] #jldopen#13\n",
      "    @ ~/.julia/packages/JLD/Vxkax/src/JLD.jl:250 [inlined]\n",
      "  [6] jldopen(fname::String, mode::String)\n",
      "    @ JLD ~/.julia/packages/JLD/Vxkax/src/JLD.jl:249\n",
      "  [7] jldopen(::var\"#39#40\"{Dict{String, Real}, Array{Float64, 4}, Array{Float64, 4}}, ::String, ::Vararg{String}; kws::@Kwargs{})\n",
      "    @ JLD ~/.julia/packages/JLD/Vxkax/src/JLD.jl:260\n",
      "  [8] jldopen(::Function, ::String, ::String)\n",
      "    @ JLD ~/.julia/packages/JLD/Vxkax/src/JLD.jl:259\n",
      "  [9] main()\n",
      "    @ Main ~/edinburgh/dissertation/julia-baroclinic/src/run_model.jl:56\n",
      " [10] top-level scope\n",
      "    @ ~/edinburgh/dissertation/julia-baroclinic/src/run_model.jl:279"
     ]
    }
   ],
   "source": [
    "include(\"../../src/model.jl\")\n",
    "include(\"../../src/schemes/helmholtz.jl\")\n",
    "include(\"../../src/schemes/boundary_conditions.jl\")\n",
    "include(\"../../src/run_model.jl\")"
   ]
  },
  {
   "cell_type": "code",
   "execution_count": 7,
   "metadata": {},
   "outputs": [
    {
     "data": {
      "text/plain": [
       "31536000"
      ]
     },
     "metadata": {},
     "output_type": "display_data"
    }
   ],
   "source": [
    "const MINUTES = 60\n",
    "const DAY = 60*60*24\n",
    "const KM = 1000.0\n",
    "const YEAR = 60*60*24*365"
   ]
  },
  {
   "cell_type": "code",
   "execution_count": 12,
   "metadata": {},
   "outputs": [
    {
     "data": {
      "text/plain": [
       "258×130 Matrix{Float64}:\n",
       "  0.00120418   -0.0  -0.00120418   …   0.00120418    6.01087e-18\n",
       " -0.0           0.0   0.0             -0.0          -0.0\n",
       " -0.00120418    0.0   0.00120418      -0.00120418   -6.01087e-18\n",
       " -0.00240764    0.0   0.00240764      -0.00240764   -1.20181e-17\n",
       " -0.00360964    0.0   0.00360964      -0.00360964   -1.80181e-17\n",
       " -0.00480947    0.0   0.00480947   …  -0.00480947   -2.40073e-17\n",
       " -0.00600641    0.0   0.00600641      -0.00600641   -2.9982e-17\n",
       " -0.00719972    0.0   0.00719972      -0.00719972   -3.59386e-17\n",
       " -0.0083887     0.0   0.0083887       -0.0083887    -4.18736e-17\n",
       " -0.00957263    0.0   0.00957263      -0.00957263   -4.77833e-17\n",
       "  ⋮                                ⋱                \n",
       "  0.00957263   -0.0  -0.00957263       0.00957263    4.77833e-17\n",
       "  0.0083887    -0.0  -0.0083887    …   0.0083887     4.18736e-17\n",
       "  0.00719972   -0.0  -0.00719972       0.00719972    3.59386e-17\n",
       "  0.00600641   -0.0  -0.00600641       0.00600641    2.9982e-17\n",
       "  0.00480947   -0.0  -0.00480947       0.00480947    2.40073e-17\n",
       "  0.00360964   -0.0  -0.00360964       0.00360964    1.80181e-17\n",
       "  0.00240764   -0.0  -0.00240764   …   0.00240764    1.20181e-17\n",
       "  0.00120418   -0.0  -0.00120418       0.00120418    6.01087e-18\n",
       "  1.20181e-17  -0.0  -1.20181e-17      1.20181e-17   5.99904e-32"
      ]
     },
     "metadata": {},
     "output_type": "display_data"
    }
   ],
   "source": [
    "H_1 = 1.0*KM\n",
    "H_2 = 2.0*KM\n",
    "beta = 2*10^-11\n",
    "Lx = 4000.0*KM # 4000 km\n",
    "Ly = 2000.0*KM # 2000 km\n",
    "dt = 15.0*MINUTES # 30 minutes TODO: This needs to be reduced I think for convergence.\n",
    "T = 0.5*YEAR  # Expect to wait 90 days before seeing things.\n",
    "U = 2.0 # Forcing term of top level.\n",
    "M = 256\n",
    "dx = Lx / M\n",
    "P = Int(Ly / dx)\n",
    "visc = 100.0 # Viscosity, 100m^2s^-1\n",
    "r = 10^-7 # bottom friction scaler.\n",
    "R_d = 40.0*KM # Deformation radious, ~40km. Using 60km for better numerics.\n",
    "\n",
    "model = BaroclinicModel(H_1, H_2, beta, Lx, Ly, dt, T, U, M, P, dx, visc, r, R_d)\n",
    "\n",
    "init"
   ]
  },
  {
   "cell_type": "code",
   "execution_count": 3,
   "metadata": {},
   "outputs": [],
   "source": [
    "# H_1 = 1.0\n",
    "# H_2 = 2.0\n",
    "# M = 4\n",
    "# P = 4\n",
    "# zeta = zeros(Float64, M+2, P+2, 2, 3)\n",
    "# psi = zeros(Float64, M+2, P+2, 2, 3)\n",
    "\n",
    "# # Initialise the model.\n",
    "# for z in 1:2\n",
    "#     a = rand(Float64, (M+2, P+2))\n",
    "#     zeta[:,:,z,1] = update_ghost_cells(a)\n",
    "#     b = rand(Float64, (M+2, P+2))\n",
    "#     psi[:,:,z,1] = update_ghost_cells(b)\n",
    "# end\n",
    "\n",
    "# Pm = P_matrix(H_1, H_2)\n",
    "# P_inv = P_inv_matrix(H_1, H_2)\n",
    "\n",
    "# zeta_tilde = zeros(Float64, M+2, P+2, 2)\n",
    "# psi_tilde = zeros(Float64, M+2, P+2, 2)\n",
    "\n",
    "# for i in 1:2\n",
    "#     zeta_tilde[:,:,i] = Pm[i,1]*zeta[:,:,1,1] + Pm[i,2]*zeta[:,:,2,1]\n",
    "#     psi_tilde[:,:,i] = Pm[i,1]*psi[:,:,1,1] + Pm[i,2]*psi[:,:,2,1]\n",
    "# end"
   ]
  },
  {
   "cell_type": "code",
   "execution_count": 4,
   "metadata": {},
   "outputs": [
    {
     "data": {
      "text/plain": [
       "create_metadata (generic function with 1 method)"
      ]
     },
     "metadata": {},
     "output_type": "display_data"
    }
   ],
   "source": [
    "function create_metadata(model::BaroclinicModel)\n",
    "    DAY = 60*60*24\n",
    "    \n",
    "    sample_interval = 1.0*DAY\n",
    "    sample_timestep = floor(Int, sample_interval / model.dt)\n",
    "\n",
    "    metadata = Dict(\"dt\" => model.dt,\n",
    "        \"T\" => model.T,\n",
    "        \"sample_interval\" => sample_interval,\n",
    "        \"sample_timestep\" => sample_timestep\n",
    "    )\n",
    "\n",
    "    return metadata\n",
    "end"
   ]
  },
  {
   "cell_type": "code",
   "execution_count": 6,
   "metadata": {},
   "outputs": [
    {
     "name": "stdout",
     "output_type": "stream",
     "text": [
      "M = 256, P = 128\n",
      "Timestep: 900.0\n",
      "T: 6.3072e7\n",
      "Total steps: 70080\n",
      "Starting timeloop\n"
     ]
    },
    {
     "ename": "InterruptException",
     "evalue": "InterruptException:",
     "output_type": "error",
     "traceback": [
      "InterruptException:\n",
      "\n",
      "Stacktrace:\n",
      "  [1] _unsafe_setindex!(::IndexLinear, ::Array{Float64, 4}, ::Matrix{Float64}, ::Base.Slice{Base.OneTo{Int64}}, ::Base.Slice{Base.OneTo{Int64}}, ::Int64, ::Int64)\n",
      "    @ Base ./multidimensional.jl:967\n",
      "  [2] _setindex!\n",
      "    @ ./multidimensional.jl:944 [inlined]\n",
      "  [3] setindex!\n",
      "    @ ./abstractarray.jl:1396 [inlined]\n",
      "  [4] store_new_state!(arr::Array{Float64, 4}, new_state::Matrix{Float64}, z::Int64)\n",
      "    @ Main ~/edinburgh/dissertation/julia-baroclinic/src/ocean_model.jl:89\n",
      "  [5] evolve_zeta_top\n",
      "    @ ~/edinburgh/dissertation/julia-baroclinic/src/ocean_model.jl:140 [inlined]\n",
      "  [6] main()\n",
      "    @ Main ~/edinburgh/dissertation/julia-baroclinic/notebooks/jupyter/jl_notebook_cell_df34fa98e69747e1a8f8a730347b8e2f_W4sZmlsZQ==.jl:59\n",
      "  [7] eval\n",
      "    @ ./boot.jl:385 [inlined]\n",
      "  [8] include_string(mapexpr::typeof(REPL.softscope), mod::Module, code::String, filename::String)\n",
      "    @ Base ./loading.jl:2076\n",
      "  [9] #invokelatest#2\n",
      "    @ ./essentials.jl:892 [inlined]\n",
      " [10] invokelatest\n",
      "    @ ./essentials.jl:889 [inlined]\n",
      " [11] (::VSCodeServer.var\"#217#218\"{VSCodeServer.NotebookRunCellArguments, String})()\n",
      "    @ VSCodeServer ~/.vscode/extensions/julialang.language-julia-1.103.2/scripts/packages/VSCodeServer/src/serve_notebook.jl:24\n",
      " [12] withpath(f::VSCodeServer.var\"#217#218\"{VSCodeServer.NotebookRunCellArguments, String}, path::String)\n",
      "    @ VSCodeServer ~/.vscode/extensions/julialang.language-julia-1.103.2/scripts/packages/VSCodeServer/src/repl.jl:276\n",
      " [13] notebook_runcell_request(conn::VSCodeServer.JSONRPC.JSONRPCEndpoint{Base.PipeEndpoint, Base.PipeEndpoint}, params::VSCodeServer.NotebookRunCellArguments)\n",
      "    @ VSCodeServer ~/.vscode/extensions/julialang.language-julia-1.103.2/scripts/packages/VSCodeServer/src/serve_notebook.jl:13\n",
      " [14] dispatch_msg(x::VSCodeServer.JSONRPC.JSONRPCEndpoint{Base.PipeEndpoint, Base.PipeEndpoint}, dispatcher::VSCodeServer.JSONRPC.MsgDispatcher, msg::Dict{String, Any})\n",
      "    @ VSCodeServer.JSONRPC ~/.vscode/extensions/julialang.language-julia-1.103.2/scripts/packages/JSONRPC/src/typed.jl:67\n",
      " [15] serve_notebook(pipename::String, debugger_pipename::String, outputchannel_logger::Base.CoreLogging.SimpleLogger; error_handler::var\"#5#10\"{String})\n",
      "    @ VSCodeServer ~/.vscode/extensions/julialang.language-julia-1.103.2/scripts/packages/VSCodeServer/src/serve_notebook.jl:147\n",
      " [16] top-level scope\n",
      "    @ ~/.vscode/extensions/julialang.language-julia-1.103.2/scripts/notebook/notebook.jl:35"
     ]
    }
   ],
   "source": [
    "function main()\n",
    "    MINUTES = 60\n",
    "    DAY = 60*60*24\n",
    "    KM = 1000\n",
    "    YEAR = 60*60*24*365\n",
    "\n",
    "    # Expect to wait 90 days before seeing things.\n",
    "\n",
    "    H_1 = 1.0*KM\n",
    "    H_2 = 2.0*KM\n",
    "    beta = 2*10^-11\n",
    "    Lx = 4000.0*KM # 4000 km\n",
    "    Ly = 2000.0*KM # 2000 km\n",
    "    dt = 15.0*MINUTES # 30 minutes TODO: This needs to be reduced I think for convergence.\n",
    "    T = 2.0*YEAR\n",
    "    U = 3.0 # Forcing term of top level.\n",
    "    M = 256\n",
    "    dx = Lx / M\n",
    "    P = Int(Ly / dx)\n",
    "    visc = 100.0 # Viscosity, 100m^2s^-1\n",
    "    r = 10^-7 # bottom friction scaler.\n",
    "    R_d = 60.0*KM # Deformation radious, ~40km. Using 60km for better numerics.\n",
    "    \n",
    "    # Create the model.\n",
    "    model = BaroclinicModel(H_1, H_2, beta, Lx, Ly, dt, T, U, M, P, dx, visc, r, R_d)\n",
    "\n",
    "    total_steps = floor(Int, T / dt)\n",
    "\n",
    "    simulation_name = \"test15\"\n",
    "    file_name = \"../../data/$simulation_name.jld\"\n",
    "    save_sim = false\n",
    "\n",
    "    zeta, psi = initialise_model(model)\n",
    "\n",
    "    if save_sim\n",
    "        metadata = create_metadata(model)\n",
    "        \n",
    "        # Create the file and write the initial conditions.\n",
    "        f = jldopen(file_name, \"w\") do file\n",
    "            write(file, \"zeta_0\", zeta[:,:,:,1])\n",
    "            write(file, \"psi_0\", psi[:,:,:,1])\n",
    "            write(file, \"metadata\", metadata)\n",
    "        end\n",
    "    end \n",
    "\n",
    "    println(\"M = $M, P = $P\")\n",
    "    println(\"Timestep: $dt\")\n",
    "    println(\"T: $T\")\n",
    "    println(\"Total steps: $total_steps\")\n",
    "\n",
    "    sample_interval = 1.0*DAY\n",
    "    sample_timestep = floor(Int, sample_interval / dt)\n",
    "    \n",
    "    poisson_system, helmholtz_system = initialise_linear_systems(model)\n",
    "\n",
    "    println(\"Starting timeloop\")\n",
    "\n",
    "    for (timestep, time) in enumerate(1:dt:T)\n",
    "        zeta = evolve_zeta_top(model, zeta, psi, timestep)\n",
    "        zeta = evolve_zeta_bottom(model, zeta, psi, timestep)\n",
    "        psi = evolve_psi(model, zeta, psi, poisson_system, helmholtz_system)\n",
    "\n",
    "        if timestep % sample_timestep == 0 && save_sim\n",
    "            t = timestep * time\n",
    "\n",
    "            println(\"Timestep: $timestep, time: $t, | \", zeta[10,10,1,1])\n",
    "            f = jldopen(file_name, \"r+\") do file\n",
    "                write(file, \"zeta_$timestep\", zeta[:,:,:,1])\n",
    "                write(file, \"psi_$timestep\", psi[:,:,:,1])\n",
    "            end\n",
    "        end\n",
    "    end\n",
    "end\n",
    "\n",
    "main()"
   ]
  }
 ],
 "metadata": {
  "kernelspec": {
   "display_name": "Julia 1.10.4",
   "language": "julia",
   "name": "julia-1.10"
  },
  "language_info": {
   "file_extension": ".jl",
   "mimetype": "application/julia",
   "name": "julia",
   "version": "1.10.4"
  }
 },
 "nbformat": 4,
 "nbformat_minor": 2
}
