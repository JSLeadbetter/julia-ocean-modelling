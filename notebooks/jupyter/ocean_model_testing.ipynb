{
 "cells": [
  {
   "cell_type": "code",
   "execution_count": 1,
   "metadata": {},
   "outputs": [],
   "source": [
    "using SparseArrays"
   ]
  },
  {
   "cell_type": "code",
   "execution_count": 2,
   "metadata": {},
   "outputs": [
    {
     "data": {
      "text/plain": [
       "update_doubly_periodic_bc!"
      ]
     },
     "metadata": {},
     "output_type": "display_data"
    }
   ],
   "source": [
    "include(\"../../src/ocean_model.jl\")\n",
    "include(\"../../src/schemes/helmholtz_sparse.jl\")\n",
    "include(\"../../src/schemes/BC.jl\")"
   ]
  },
  {
   "cell_type": "code",
   "execution_count": null,
   "metadata": {},
   "outputs": [],
   "source": [
    "B"
   ]
  },
  {
   "cell_type": "code",
   "execution_count": 3,
   "metadata": {},
   "outputs": [],
   "source": [
    "# H_1 = 1.0\n",
    "# H_2 = 2.0\n",
    "# M = 4\n",
    "# P = 4\n",
    "# zeta = zeros(Float64, M+2, P+2, 2, 3)\n",
    "# psi = zeros(Float64, M+2, P+2, 2, 3)\n",
    "\n",
    "# # Initialise the model.\n",
    "# for z in 1:2\n",
    "#     a = rand(Float64, (M+2, P+2))\n",
    "#     zeta[:,:,z,1] = update_ghost_cells(a)\n",
    "#     b = rand(Float64, (M+2, P+2))\n",
    "#     psi[:,:,z,1] = update_ghost_cells(b)\n",
    "# end\n",
    "\n",
    "# Pm = P_matrix(H_1, H_2)\n",
    "# P_inv = P_inv_matrix(H_1, H_2)\n",
    "\n",
    "# zeta_tilde = zeros(Float64, M+2, P+2, 2)\n",
    "# psi_tilde = zeros(Float64, M+2, P+2, 2)\n",
    "\n",
    "# for i in 1:2\n",
    "#     zeta_tilde[:,:,i] = Pm[i,1]*zeta[:,:,1,1] + Pm[i,2]*zeta[:,:,2,1]\n",
    "#     psi_tilde[:,:,i] = Pm[i,1]*psi[:,:,1,1] + Pm[i,2]*psi[:,:,2,1]\n",
    "# end"
   ]
  },
  {
   "cell_type": "code",
   "execution_count": 4,
   "metadata": {},
   "outputs": [
    {
     "data": {
      "text/plain": [
       "create_metadata (generic function with 1 method)"
      ]
     },
     "metadata": {},
     "output_type": "display_data"
    }
   ],
   "source": [
    "function create_metadata(model::BaroclinicModel)\n",
    "    DAY = 60*60*24\n",
    "    \n",
    "    sample_interval = 1.0*DAY\n",
    "    sample_timestep = floor(Int, sample_interval / model.dt)\n",
    "\n",
    "    metadata = Dict(\"dt\" => model.dt,\n",
    "        \"T\" => model.T,\n",
    "        \"sample_interval\" => sample_interval,\n",
    "        \"sample_timestep\" => sample_timestep\n",
    "    )\n",
    "\n",
    "    return metadata\n",
    "end"
   ]
  },
  {
   "cell_type": "code",
   "execution_count": 6,
   "metadata": {},
   "outputs": [
    {
     "name": "stdout",
     "output_type": "stream",
     "text": [
      "M = 256, P = 128\n",
      "Timestep: 900.0\n",
      "T: 6.3072e7\n",
      "Total steps: 70080\n",
      "Starting timeloop\n"
     ]
    },
    {
     "ename": "InterruptException",
     "evalue": "InterruptException:",
     "output_type": "error",
     "traceback": [
      "InterruptException:\n",
      "\n",
      "Stacktrace:\n",
      "  [1] _unsafe_setindex!(::IndexLinear, ::Array{Float64, 4}, ::Matrix{Float64}, ::Base.Slice{Base.OneTo{Int64}}, ::Base.Slice{Base.OneTo{Int64}}, ::Int64, ::Int64)\n",
      "    @ Base ./multidimensional.jl:967\n",
      "  [2] _setindex!\n",
      "    @ ./multidimensional.jl:944 [inlined]\n",
      "  [3] setindex!\n",
      "    @ ./abstractarray.jl:1396 [inlined]\n",
      "  [4] store_new_state!(arr::Array{Float64, 4}, new_state::Matrix{Float64}, z::Int64)\n",
      "    @ Main ~/edinburgh/dissertation/julia-baroclinic/src/ocean_model.jl:89\n",
      "  [5] evolve_zeta_top\n",
      "    @ ~/edinburgh/dissertation/julia-baroclinic/src/ocean_model.jl:140 [inlined]\n",
      "  [6] main()\n",
      "    @ Main ~/edinburgh/dissertation/julia-baroclinic/notebooks/jupyter/jl_notebook_cell_df34fa98e69747e1a8f8a730347b8e2f_W4sZmlsZQ==.jl:59\n",
      "  [7] eval\n",
      "    @ ./boot.jl:385 [inlined]\n",
      "  [8] include_string(mapexpr::typeof(REPL.softscope), mod::Module, code::String, filename::String)\n",
      "    @ Base ./loading.jl:2076\n",
      "  [9] #invokelatest#2\n",
      "    @ ./essentials.jl:892 [inlined]\n",
      " [10] invokelatest\n",
      "    @ ./essentials.jl:889 [inlined]\n",
      " [11] (::VSCodeServer.var\"#217#218\"{VSCodeServer.NotebookRunCellArguments, String})()\n",
      "    @ VSCodeServer ~/.vscode/extensions/julialang.language-julia-1.103.2/scripts/packages/VSCodeServer/src/serve_notebook.jl:24\n",
      " [12] withpath(f::VSCodeServer.var\"#217#218\"{VSCodeServer.NotebookRunCellArguments, String}, path::String)\n",
      "    @ VSCodeServer ~/.vscode/extensions/julialang.language-julia-1.103.2/scripts/packages/VSCodeServer/src/repl.jl:276\n",
      " [13] notebook_runcell_request(conn::VSCodeServer.JSONRPC.JSONRPCEndpoint{Base.PipeEndpoint, Base.PipeEndpoint}, params::VSCodeServer.NotebookRunCellArguments)\n",
      "    @ VSCodeServer ~/.vscode/extensions/julialang.language-julia-1.103.2/scripts/packages/VSCodeServer/src/serve_notebook.jl:13\n",
      " [14] dispatch_msg(x::VSCodeServer.JSONRPC.JSONRPCEndpoint{Base.PipeEndpoint, Base.PipeEndpoint}, dispatcher::VSCodeServer.JSONRPC.MsgDispatcher, msg::Dict{String, Any})\n",
      "    @ VSCodeServer.JSONRPC ~/.vscode/extensions/julialang.language-julia-1.103.2/scripts/packages/JSONRPC/src/typed.jl:67\n",
      " [15] serve_notebook(pipename::String, debugger_pipename::String, outputchannel_logger::Base.CoreLogging.SimpleLogger; error_handler::var\"#5#10\"{String})\n",
      "    @ VSCodeServer ~/.vscode/extensions/julialang.language-julia-1.103.2/scripts/packages/VSCodeServer/src/serve_notebook.jl:147\n",
      " [16] top-level scope\n",
      "    @ ~/.vscode/extensions/julialang.language-julia-1.103.2/scripts/notebook/notebook.jl:35"
     ]
    }
   ],
   "source": [
    "function main()\n",
    "    MINUTES = 60\n",
    "    DAY = 60*60*24\n",
    "    KM = 1000\n",
    "    YEAR = 60*60*24*365\n",
    "\n",
    "    # Expect to wait 90 days before seeing things.\n",
    "\n",
    "    H_1 = 1.0*KM\n",
    "    H_2 = 2.0*KM\n",
    "    beta = 2*10^-11\n",
    "    Lx = 4000.0*KM # 4000 km\n",
    "    Ly = 2000.0*KM # 2000 km\n",
    "    dt = 15.0*MINUTES # 30 minutes TODO: This needs to be reduced I think for convergence.\n",
    "    T = 2.0*YEAR\n",
    "    U = 3.0 # Forcing term of top level.\n",
    "    M = 256\n",
    "    dx = Lx / M\n",
    "    P = Int(Ly / dx)\n",
    "    visc = 100.0 # Viscosity, 100m^2s^-1\n",
    "    r = 10^-7 # bottom friction scaler.\n",
    "    R_d = 60.0*KM # Deformation radious, ~40km. Using 60km for better numerics.\n",
    "    \n",
    "    # Create the model.\n",
    "    model = BaroclinicModel(H_1, H_2, beta, Lx, Ly, dt, T, U, M, P, dx, visc, r, R_d)\n",
    "\n",
    "    total_steps = floor(Int, T / dt)\n",
    "\n",
    "    simulation_name = \"test15\"\n",
    "    file_name = \"../../data/$simulation_name.jld\"\n",
    "    save_sim = false\n",
    "\n",
    "    zeta, psi = initialise_model(model)\n",
    "\n",
    "    if save_sim\n",
    "        metadata = create_metadata(model)\n",
    "        \n",
    "        # Create the file and write the initial conditions.\n",
    "        f = jldopen(file_name, \"w\") do file\n",
    "            write(file, \"zeta_0\", zeta[:,:,:,1])\n",
    "            write(file, \"psi_0\", psi[:,:,:,1])\n",
    "            write(file, \"metadata\", metadata)\n",
    "        end\n",
    "    end \n",
    "\n",
    "    println(\"M = $M, P = $P\")\n",
    "    println(\"Timestep: $dt\")\n",
    "    println(\"T: $T\")\n",
    "    println(\"Total steps: $total_steps\")\n",
    "\n",
    "    sample_interval = 1.0*DAY\n",
    "    sample_timestep = floor(Int, sample_interval / dt)\n",
    "    \n",
    "    poisson_system, helmholtz_system = initialise_linear_systems(model)\n",
    "\n",
    "    println(\"Starting timeloop\")\n",
    "\n",
    "    for (timestep, time) in enumerate(1:dt:T)\n",
    "        zeta = evolve_zeta_top(model, zeta, psi, timestep)\n",
    "        zeta = evolve_zeta_bottom(model, zeta, psi, timestep)\n",
    "        psi = evolve_psi(model, zeta, psi, poisson_system, helmholtz_system)\n",
    "\n",
    "        if timestep % sample_timestep == 0 && save_sim\n",
    "            t = timestep * time\n",
    "\n",
    "            println(\"Timestep: $timestep, time: $t, | \", zeta[10,10,1,1])\n",
    "            f = jldopen(file_name, \"r+\") do file\n",
    "                write(file, \"zeta_$timestep\", zeta[:,:,:,1])\n",
    "                write(file, \"psi_$timestep\", psi[:,:,:,1])\n",
    "            end\n",
    "        end\n",
    "    end\n",
    "end\n",
    "\n",
    "main()"
   ]
  }
 ],
 "metadata": {
  "kernelspec": {
   "display_name": "Julia 1.10.4",
   "language": "julia",
   "name": "julia-1.10"
  },
  "language_info": {
   "file_extension": ".jl",
   "mimetype": "application/julia",
   "name": "julia",
   "version": "1.10.4"
  }
 },
 "nbformat": 4,
 "nbformat_minor": 2
}
