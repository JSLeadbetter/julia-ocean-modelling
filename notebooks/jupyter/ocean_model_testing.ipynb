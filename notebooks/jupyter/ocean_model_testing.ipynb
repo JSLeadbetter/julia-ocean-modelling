{
 "cells": [
  {
   "cell_type": "code",
   "execution_count": 6,
   "metadata": {},
   "outputs": [],
   "source": [
    "using SparseArrays"
   ]
  },
  {
   "cell_type": "code",
   "execution_count": 7,
   "metadata": {},
   "outputs": [
    {
     "data": {
      "text/plain": [
       "sp_solve_modified_helmholtz"
      ]
     },
     "metadata": {},
     "output_type": "display_data"
    }
   ],
   "source": [
    "include(\"../../src/ocean_model.jl\")\n",
    "include(\"../../src/schemes/helmholtz_sparse.jl\")"
   ]
  },
  {
   "cell_type": "code",
   "execution_count": 8,
   "metadata": {},
   "outputs": [
    {
     "data": {
      "text/plain": [
       "-0.25:0.25:1.0"
      ]
     },
     "metadata": {},
     "output_type": "display_data"
    }
   ],
   "source": [
    "domain = RectangularDomain(0, 1, 0, 1)\n",
    "dx = 0.25\n",
    "M = 4\n",
    "P = 4\n",
    "lambda = 0.0\n",
    "\n",
    "f(x, y) = x*y\n",
    "\n",
    "# Range includes extra index at each end for ghost cell.\n",
    "xs = range(domain.x1 - dx, domain.x2, length=M+2)\n",
    "ys = range(domain.y1 - dx, domain.y2, length=P+2)"
   ]
  },
  {
   "cell_type": "code",
   "execution_count": 9,
   "metadata": {},
   "outputs": [
    {
     "data": {
      "text/plain": [
       "36×36 SparseMatrixCSC{Float64, Int64} with 156 stored entries:\n",
       "⎡⠻⣦⡀⠑⢄⠀⠀⠀⠀⠀⠀⠀⠀⠀⠀⠀⠀⠀⎤\n",
       "⎢⢄⠈⠛⣤⡀⠑⢄⠀⠀⠀⠀⠀⠀⠀⠀⠀⠀⠀⎥\n",
       "⎢⠀⠑⢄⠈⠻⣦⠀⠑⢄⠀⠀⠀⠀⠀⠀⠀⠀⠀⎥\n",
       "⎢⠀⠀⠀⠑⢄⠀⠻⣦⡀⠑⢄⠀⠀⠀⠀⠀⠀⠀⎥\n",
       "⎢⠀⠀⠀⠀⠀⠑⢄⠈⠛⣤⡀⠑⢄⠀⠀⠀⠀⠀⎥\n",
       "⎢⠀⠀⠀⠀⠀⠀⠀⠑⢄⠈⠻⣦⠀⠑⢄⠀⠀⠀⎥\n",
       "⎢⠀⠀⠀⠀⠀⠀⠀⠀⠀⠑⢄⠀⠻⣦⡀⠑⢄⠀⎥\n",
       "⎢⠀⠀⠀⠀⠀⠀⠀⠀⠀⠀⠀⠑⢄⠈⠛⣤⡀⠑⎥\n",
       "⎣⠀⠀⠀⠀⠀⠀⠀⠀⠀⠀⠀⠀⠀⠑⢄⠈⠻⣦⎦"
      ]
     },
     "metadata": {},
     "output_type": "display_data"
    },
    {
     "data": {
      "text/plain": [
       "6×6 Matrix{Float64}:\n",
       "  0.0625  -0.0  -0.0625  -0.125  -0.1875  -0.25\n",
       " -0.0      0.0   0.0      0.0     0.0      0.0\n",
       " -0.0625   0.0   0.0625   0.125   0.1875   0.25\n",
       " -0.125    0.0   0.125    0.25    0.375    0.5\n",
       " -0.1875   0.0   0.1875   0.375   0.5625   0.75\n",
       " -0.25     0.0   0.25     0.5     0.75     1.0"
      ]
     },
     "metadata": {},
     "output_type": "display_data"
    },
    {
     "data": {
      "text/plain": [
       "6×6 Matrix{Float64}:\n",
       " 0.5625  0.0  0.1875  0.375  0.5625  0.0\n",
       " 0.0     0.0  0.0     0.0    0.0     0.0\n",
       " 0.1875  0.0  0.0625  0.125  0.1875  0.0\n",
       " 0.375   0.0  0.125   0.25   0.375   0.0\n",
       " 0.5625  0.0  0.1875  0.375  0.5625  0.0\n",
       " 0.0     0.0  0.0     0.0    0.0     0.0"
      ]
     },
     "metadata": {},
     "output_type": "display_data"
    },
    {
     "data": {
      "text/plain": [
       "36-element Vector{Float64}:\n",
       " -0.014613734535687846\n",
       " -0.011649344071375693\n",
       " -0.016083311486027995\n",
       " -0.020813835416538147\n",
       " -0.021009505918600242\n",
       " -0.007821751255210306\n",
       " -0.011649344071375696\n",
       " -0.01590033026378693\n",
       " -0.02015131645619816\n",
       " -0.02272502426152435\n",
       "  ⋮\n",
       " -0.033195121588515716\n",
       " -0.03210406297228732\n",
       " -0.01343487935605893\n",
       " -0.007821751255210306\n",
       " -0.01027749910224098\n",
       " -0.013042058151101103\n",
       " -0.01491801477391894\n",
       " -0.013434879356058933\n",
       " -0.0067174396780294654"
      ]
     },
     "metadata": {},
     "output_type": "display_data"
    }
   ],
   "source": [
    "# Use - here to ensure the matrix is semi pos def.\n",
    "A = -construct_spA(M+2, P+2, lambda, dx)\n",
    "display(A)\n",
    "b = inflate(f, xs, ys)\n",
    "display(b)\n",
    "\n",
    "b[:,1] = b[:,end-1] # LHS ghost column.\n",
    "b[:,end] = b[:,2] # RHS ghost column.\n",
    "b[1,:] = b[end-1,:] # Top ghost row.\n",
    "b[end,:] = b[2,:] # Bottom ghost row.\n",
    "\n",
    "display(b)\n",
    "\n",
    "A \\ vec(b)"
   ]
  },
  {
   "cell_type": "code",
   "execution_count": 11,
   "metadata": {},
   "outputs": [],
   "source": [
    "function main()\n",
    "    H_1 = 1000.0\n",
    "    H_2 = 2000.0\n",
    "    beta = 2*10^-11\n",
    "    Lx = 4000.0 # 4000 km\n",
    "    Ly = 2000.0 # 2000 km\n",
    "    dt = 1 # 30 minutes\n",
    "    T = 2000\n",
    "    U = 1.0 # Forcing term of top level.\n",
    "    M = 100\n",
    "    P = 100\n",
    "    dx = 1.0\n",
    "    beta = 1.0\n",
    "    visc = 1.0\n",
    "    \n",
    "    simulation_name = \"test2\"\n",
    "    file_name = \"../../data/$simulation_name.jld\"\n",
    "\n",
    "    # M+2 and P+2 for ghost cells on each side.\n",
    "    zeta = zeros(M+2, P+2, 2, 3)\n",
    "    psi = zeros(M+2, P+2, 2, 3)\n",
    "\n",
    "     # M x P x 2 x 3, 2 for each layer and 3 time points are kept for AB3.\n",
    "    #  zeta::Array{Real, 4}    \n",
    "    #  psi::Array{Real, 4}\n",
    "\n",
    "    # Initialise the model.\n",
    "    for z in 1:2\n",
    "        a = rand(Float64, (M+2, P+2))\n",
    "        zeta[:,:,z,1] = update_ghost_cells(a)\n",
    "        b = rand(Float64, (M+2, P+2))\n",
    "        psi[:,:,z,1] = update_ghost_cells(b)\n",
    "    end    \n",
    "\n",
    "    # Create the file and write the initial conditions.\n",
    "    f = jldopen(file_name, \"w\") do file\n",
    "        write(file, \"zeta_0\", zeta[:,:,:,1])\n",
    "        write(file, \"psi_0\", psi[:,:,:,1])\n",
    "    end \n",
    "\n",
    "    # Create the model.\n",
    "    model = BaroclinicModel(H_1, H_2, beta, Lx, Ly, dt, T, U, M, P, dx, visc)\n",
    "\n",
    "    for timestep in 1:T\n",
    "        zeta = evolve_zeta(model, zeta, psi, timestep)\n",
    "        psi = evolve_psi(model, zeta, psi)\n",
    "\n",
    "        if timestep % 25 == 0\n",
    "            f = jldopen(file_name, \"r+\") do file\n",
    "                write(file, \"zeta_$timestep\", zeta[:,:,:,1])\n",
    "                write(file, \"psi_$timestep\", psi[:,:,:,1])\n",
    "            end\n",
    "        end\n",
    "    end\n",
    "end\n",
    "\n",
    "main()"
   ]
  }
 ],
 "metadata": {
  "kernelspec": {
   "display_name": "Julia 1.10.4",
   "language": "julia",
   "name": "julia-1.10"
  },
  "language_info": {
   "file_extension": ".jl",
   "mimetype": "application/julia",
   "name": "julia",
   "version": "1.10.4"
  }
 },
 "nbformat": 4,
 "nbformat_minor": 2
}
