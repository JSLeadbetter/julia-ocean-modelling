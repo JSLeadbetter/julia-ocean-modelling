{
 "cells": [
  {
   "cell_type": "code",
   "execution_count": 1,
   "metadata": {},
   "outputs": [],
   "source": [
    "include(\"../../src/animation.jl\")\n",
    "\n",
    "data_file_name = \"../../data/double_res_of_first_correct_run.jld\"\n",
    "\n",
    "metadata = get_metadata(data_file_name)\n",
    "sample_timestep = metadata[\"sample_timestep\"]\n",
    "dt = metadata[\"dt\"]\n",
    "\n",
    "print(sample_timestep)\n",
    "\n",
    "if haskey(metadata, \"total_steps\")\n",
    "    total_steps = metadata[\"total_steps\"]\n",
    "else\n",
    "    T = floor(Int, metadata[\"T\"])\n",
    "    total_steps = floor(Int, T / dt)\n",
    "end\n",
    "\n",
    "# 1000 - before breakdown, nice vertical lines.\n",
    "# 1200 - just after breakdown, good show of initial mixing.\n",
    "\n",
    "\n",
    "timestep = 1200*sample_timestep\n",
    "\n",
    "zeta = load_matrix(timestep, data_file_name, \"zeta\")\n",
    "psi = load_matrix(timestep, data_file_name, \"psi\")\n",
    "\n",
    "zeta_top = zeta[:,:,1]\n",
    "\n",
    "fig = Figure(size = (900, 600), figure_padding = 20)\n",
    "ga = fig[1, 1] = GridLayout()\n",
    "\n",
    "# Label(fig[0, :], lift(t -> \"Current Time (Days) = $(round(t, digits=1))\", plot_time), \n",
    "#     fontsize = 24, tellwidth = false)\n",
    "\n",
    "ax = Axis(ga[1, 1], title=\"Zeta Layer 1\")\n",
    "\n",
    "heatmap!(ax, zeta_top)\n",
    "Colorbar(ga[1, 2], hm)\n",
    "\n",
    "wait(display(fig))"
   ]
  },
  {
   "cell_type": "code",
   "execution_count": null,
   "metadata": {},
   "outputs": [],
   "source": []
  }
 ],
 "metadata": {
  "kernelspec": {
   "display_name": "Julia 1.10.4",
   "language": "julia",
   "name": "julia-1.10"
  },
  "language_info": {
   "file_extension": ".jl",
   "mimetype": "application/julia",
   "name": "julia",
   "version": "1.10.4"
  }
 },
 "nbformat": 4,
 "nbformat_minor": 2
}
