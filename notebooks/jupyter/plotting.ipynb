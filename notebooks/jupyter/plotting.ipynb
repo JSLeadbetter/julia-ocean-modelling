{
 "cells": [
  {
   "cell_type": "code",
   "execution_count": 6,
   "metadata": {},
   "outputs": [],
   "source": [
    "using GLMakie\n",
    "using JLD"
   ]
  },
  {
   "cell_type": "code",
   "execution_count": 7,
   "metadata": {},
   "outputs": [
    {
     "data": {
      "text/plain": [
       "get_metadata (generic function with 1 method)"
      ]
     },
     "metadata": {},
     "output_type": "display_data"
    }
   ],
   "source": [
    "function get_metadata(file_name::String)\n",
    "    c = jldopen(file_name, \"r\") do file\n",
    "        return read(file, \"metadata\")\n",
    "    end\n",
    "end"
   ]
  },
  {
   "cell_type": "code",
   "execution_count": 8,
   "metadata": {},
   "outputs": [
    {
     "data": {
      "text/plain": [
       "load_matrix (generic function with 1 method)"
      ]
     },
     "metadata": {},
     "output_type": "display_data"
    }
   ],
   "source": [
    "function load_matrix(timestep::Int, file_name::String, var::String)\n",
    "    data_name = var * \"_$timestep\"\n",
    "    c = jldopen(file_name, \"r\") do file\n",
    "        return read(file, data_name)\n",
    "    end\n",
    "end"
   ]
  },
  {
   "cell_type": "code",
   "execution_count": 9,
   "metadata": {},
   "outputs": [
    {
     "name": "stdout",
     "output_type": "stream",
     "text": [
      "Dict{String, Real}(\"T\" => 6.3072e7, \"sample_timestep\" => 72, \"dt\" => 1200.0, \"sample_interval\" => 86400.0)\n"
     ]
    }
   ],
   "source": [
    "function animation()\n",
    "    simulation_name = \"test12\"\n",
    "    file_name = \"../../data/$simulation_name.jld\"\n",
    "    \n",
    "    metadata = get_metadata(file_name)\n",
    "    println(metadata)\n",
    "\n",
    "    T = floor(Int, metadata[\"T\"])\n",
    "    dt = metadata[\"dt\"]\n",
    "    sample_timestep = 4*metadata[\"sample_timestep\"]\n",
    "    sample_interval = metadata[\"sample_interval\"]\n",
    "\n",
    "    zeta = load_matrix(0, file_name, \"zeta\")\n",
    "\n",
    "    zeta_top_plot = Observable(zeta[:,:,1])\n",
    "    zeta_bottom_plot = Observable(zeta[:,:,2])\n",
    "\n",
    "    # plot_time = Observable(0.0)\n",
    "\n",
    "    fig = Figure()\n",
    "    ga = fig[1, 1] = GridLayout()\n",
    "    \n",
    "    ax_top = Axis(ga[1, 1])\n",
    "    ax_bottom = Axis(ga[2, 1])\n",
    "\n",
    "    heatmap!(ax_top, zeta_top_plot)\n",
    "    heatmap!(ax_bottom, zeta_bottom_plot)\n",
    "\n",
    "    for (timestep, time) in enumerate(0:dt:T)\n",
    "        if timestep % (sample_timestep) == 0\n",
    "            zeta = load_matrix(Int(timestep), file_name, \"zeta\")\n",
    "            \n",
    "            # println(\"$file_name, $timestep, top | \", zeta[10,10,1])\n",
    "            # println(\"$file_name, $timestep, bottom | \", zeta[10,10,2])\n",
    "\n",
    "            zeta_top_plot[] = zeta[:,:,1]\n",
    "            zeta_bottom_plot[] = zeta[:,:,2]     \n",
    "\n",
    "            display(fig)\n",
    "\n",
    "            # Set the matrix to nothing so the memoery can be freed up later by the garbage collector.\n",
    "            matrix = nothing\n",
    "            \n",
    "            # Force garbage collection to clean up the memory used by the old array.\n",
    "            GC.gc()\n",
    "            sleep(0.2)\n",
    "        end\n",
    "    end\n",
    "end\n",
    "\n",
    "animation()"
   ]
  }
 ],
 "metadata": {
  "kernelspec": {
   "display_name": "Julia 1.10.4",
   "language": "julia",
   "name": "julia-1.10"
  },
  "language_info": {
   "file_extension": ".jl",
   "mimetype": "application/julia",
   "name": "julia",
   "version": "1.10.4"
  }
 },
 "nbformat": 4,
 "nbformat_minor": 2
}
