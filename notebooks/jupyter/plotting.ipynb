{
 "cells": [
  {
   "cell_type": "code",
   "execution_count": 1,
   "metadata": {},
   "outputs": [],
   "source": [
    "using GLMakie\n",
    "using JLD"
   ]
  },
  {
   "cell_type": "code",
   "execution_count": 2,
   "metadata": {},
   "outputs": [
    {
     "name": "stdout",
     "output_type": "stream",
     "text": [
      "[\"psi_0\", \"psi_100\", \"psi_1000\", \"psi_1025\", \"psi_1050\", \"psi_1075\", \"psi_1100\", \"psi_1125\", \"psi_1150\", \"psi_1175\", \"psi_1200\", \"psi_1225\", \"psi_125\", \"psi_1250\", \"psi_1275\", \"psi_1300\", \"psi_1325\", \"psi_1350\", \"psi_1375\", \"psi_1400\", \"psi_1425\", \"psi_1450\", \"psi_1475\", \"psi_150\", \"psi_1500\", \"psi_1525\", \"psi_1550\", \"psi_1575\", \"psi_1600\", \"psi_1625\", \"psi_1650\", \"psi_1675\", \"psi_1700\", \"psi_1725\", \"psi_175\", \"psi_1750\", \"psi_1775\", \"psi_1800\", \"psi_1825\", \"psi_1850\", \"psi_1875\", \"psi_1900\", \"psi_1925\", \"psi_1950\", \"psi_1975\", \"psi_200\", \"psi_2000\", \"psi_225\", \"psi_25\", \"psi_250\", \"psi_275\", \"psi_300\", \"psi_325\", \"psi_350\", \"psi_375\", \"psi_400\", \"psi_425\", \"psi_450\", \"psi_475\", \"psi_50\", \"psi_500\", \"psi_525\", \"psi_550\", \"psi_575\", \"psi_600\", \"psi_625\", \"psi_650\", \"psi_675\", \"psi_700\", \"psi_725\", \"psi_75\", \"psi_750\", \"psi_775\", \"psi_800\", \"psi_825\", \"psi_850\", \"psi_875\", \"psi_900\", \"psi_925\", \"psi_950\", \"psi_975\", \"zeta_0\", \"zeta_100\", \"zeta_1000\", \"zeta_1025\", \"zeta_1050\", \"zeta_1075\", \"zeta_1100\", \"zeta_1125\", \"zeta_1150\", \"zeta_1175\", \"zeta_1200\", \"zeta_1225\", \"zeta_125\", \"zeta_1250\", \"zeta_1275\", \"zeta_1300\", \"zeta_1325\", \"zeta_1350\", \"zeta_1375\", \"zeta_1400\", \"zeta_1425\", \"zeta_1450\", \"zeta_1475\", \"zeta_150\", \"zeta_1500\", \"zeta_1525\", \"zeta_1550\", \"zeta_1575\", \"zeta_1600\", \"zeta_1625\", \"zeta_1650\", \"zeta_1675\", \"zeta_1700\", \"zeta_1725\", \"zeta_175\", \"zeta_1750\", \"zeta_1775\", \"zeta_1800\", \"zeta_1825\", \"zeta_1850\", \"zeta_1875\", \"zeta_1900\", \"zeta_1925\", \"zeta_1950\", \"zeta_1975\", \"zeta_200\", \"zeta_2000\", \"zeta_225\", \"zeta_25\", \"zeta_250\", \"zeta_275\", \"zeta_300\", \"zeta_325\", \"zeta_350\", \"zeta_375\", \"zeta_400\", \"zeta_425\", \"zeta_450\", \"zeta_475\", \"zeta_50\", \"zeta_500\", \"zeta_525\", \"zeta_550\", \"zeta_575\", \"zeta_600\", \"zeta_625\", \"zeta_650\", \"zeta_675\", \"zeta_700\", \"zeta_725\", \"zeta_75\", \"zeta_750\", \"zeta_775\", \"zeta_800\", \"zeta_825\", \"zeta_850\", \"zeta_875\", \"zeta_900\", \"zeta_925\", \"zeta_950\", \"zeta_975\"]\n"
     ]
    }
   ],
   "source": [
    "simulation_name = \"test2\"\n",
    "file_name = \"../../data/$simulation_name.jld\"\n",
    "file = jldopen(file_name, \"r\")\n",
    "println(keys(file))"
   ]
  },
  {
   "cell_type": "code",
   "execution_count": 3,
   "metadata": {},
   "outputs": [
    {
     "data": {
      "text/plain": [
       "load_matrix (generic function with 1 method)"
      ]
     },
     "metadata": {},
     "output_type": "display_data"
    }
   ],
   "source": [
    "function load_matrix(timestep, file_name)\n",
    "    data_name = \"zeta_$timestep\"\n",
    "    c = jldopen(file_name, \"r\") do file\n",
    "        zeta = read(file, data_name)\n",
    "        return zeta\n",
    "    end\n",
    "end"
   ]
  },
  {
   "cell_type": "code",
   "execution_count": 4,
   "metadata": {},
   "outputs": [
    {
     "name": "stdout",
     "output_type": "stream",
     "text": [
      "0.556909550691758\n",
      "-3.1784156886820097e9\n",
      "9.989068340635169e20\n",
      "-4.7312001497735875e31\n",
      "-1.8008745742579562e43\n"
     ]
    }
   ],
   "source": [
    "matrix = load_matrix(0, file_name)\n",
    "zeta_grid = matrix[:,:,1]\n",
    "\n",
    "\n",
    "grids = Observable(zeta_grid)\n",
    "\n",
    "\n",
    "fig, ax = heatmap(grids)\n",
    "\n",
    "T = 2000\n",
    "ani_step = 25\n",
    "\n",
    "# display(fig)\n",
    "\n",
    "for timestep in 0:ani_step:T\n",
    "    matrix = load_matrix(timestep, file_name)\n",
    "    println(matrix[10,10,1])\n",
    "    zeta_grid = matrix[:,:,1]\n",
    "    grids[] = zeta_grid\n",
    "    \n",
    "    display(fig)\n",
    "\n",
    "    # Set the matrix to nothing so the memoery can be freed up later by the garbage collector.\n",
    "    matrix = nothing\n",
    "    \n",
    "    # Force garbage collection to clean up the memory used by the old array.\n",
    "    GC.gc()\n",
    "    sleep(0.1)\n",
    "end"
   ]
  }
 ],
 "metadata": {
  "kernelspec": {
   "display_name": "Julia 1.10.4",
   "language": "julia",
   "name": "julia-1.10"
  },
  "language_info": {
   "file_extension": ".jl",
   "mimetype": "application/julia",
   "name": "julia",
   "version": "1.10.4"
  }
 },
 "nbformat": 4,
 "nbformat_minor": 2
}
