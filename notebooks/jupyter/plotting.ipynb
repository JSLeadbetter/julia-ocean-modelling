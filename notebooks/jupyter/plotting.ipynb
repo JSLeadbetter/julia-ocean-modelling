{
 "cells": [
  {
   "cell_type": "code",
   "execution_count": 1,
   "metadata": {},
   "outputs": [],
   "source": [
    "using GLMakie\n",
    "using JLD"
   ]
  },
  {
   "cell_type": "code",
   "execution_count": 2,
   "metadata": {},
   "outputs": [
    {
     "data": {
      "text/plain": [
       "get_metadata (generic function with 1 method)"
      ]
     },
     "metadata": {},
     "output_type": "display_data"
    }
   ],
   "source": [
    "function get_metadata(file_name::String)\n",
    "    c = jldopen(file_name, \"r\") do file\n",
    "        return read(file, \"metadata\")\n",
    "    end\n",
    "end"
   ]
  },
  {
   "cell_type": "code",
   "execution_count": 3,
   "metadata": {},
   "outputs": [
    {
     "data": {
      "text/plain": [
       "load_matrix (generic function with 1 method)"
      ]
     },
     "metadata": {},
     "output_type": "display_data"
    }
   ],
   "source": [
    "function load_matrix(timestep, file_name)\n",
    "    data_name = \"zeta_$timestep\"\n",
    "    c = jldopen(file_name, \"r\") do file\n",
    "        return read(file, data_name)\n",
    "    end\n",
    "end"
   ]
  },
  {
   "cell_type": "code",
   "execution_count": 6,
   "metadata": {},
   "outputs": [
    {
     "name": "stdout",
     "output_type": "stream",
     "text": [
      "Dict{String, Real}(\"T\" => 1.5768e7, \"sample_timestep\" => 48, \"dt\" => 1800.0, \"sample_interval\" => 86400.0)\n"
     ]
    }
   ],
   "source": [
    "function animation()\n",
    "    simulation_name = \"test7\"\n",
    "    file_name = \"../../data/$simulation_name.jld\"\n",
    "    \n",
    "    metadata = get_metadata(file_name)\n",
    "    println(metadata)\n",
    "\n",
    "    matrix = load_matrix(0, file_name)\n",
    "    zeta_grid = matrix[:,:,1]\n",
    "\n",
    "    grids = Observable(zeta_grid)\n",
    "\n",
    "    # plot_time = Observable(0.0)\n",
    "\n",
    "    fig = Figure()\n",
    "    ax = Axis(fig[1, 1])\n",
    "    heatmap!(ax, grids)\n",
    "\n",
    "    T = floor(Int, metadata[\"T\"])\n",
    "    dt = metadata[\"dt\"]\n",
    "    sample_timestep = metadata[\"sample_timestep\"]\n",
    "    sample_interval = metadata[\"sample_interval\"]\n",
    "\n",
    "    for (timestep, time) in enumerate(0:dt:T)\n",
    "        if timestep % (sample_timestep) == 0\n",
    "            matrix = load_matrix(timestep, file_name)\n",
    "            # println(\"$file_name, $timestep, | \", matrix[10,10,1])\n",
    "            zeta_grid = matrix[:,:,1]\n",
    "\n",
    "            grids[] = zeta_grid\n",
    "            # plot_time[] = timestep            \n",
    "\n",
    "            display(fig)\n",
    "\n",
    "            # Set the matrix to nothing so the memoery can be freed up later by the garbage collector.\n",
    "            matrix = nothing\n",
    "            \n",
    "            # Force garbage collection to clean up the memory used by the old array.\n",
    "            GC.gc()\n",
    "            sleep(0.2)\n",
    "        end\n",
    "    end\n",
    "end\n",
    "\n",
    "animation()"
   ]
  }
 ],
 "metadata": {
  "kernelspec": {
   "display_name": "Julia 1.10.4",
   "language": "julia",
   "name": "julia-1.10"
  },
  "language_info": {
   "file_extension": ".jl",
   "mimetype": "application/julia",
   "name": "julia",
   "version": "1.10.4"
  }
 },
 "nbformat": 4,
 "nbformat_minor": 2
}
